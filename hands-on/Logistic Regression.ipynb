{
 "cells": [
  {
   "cell_type": "markdown",
   "metadata": {},
   "source": [
    "#Logistic Regression (LR)\n",
    "The hypothesis function for logistic regression is\n",
    "\n",
    "$h_\\theta(x) = \\frac{1}{1+e^{\\theta^{T}X}}$\n",
    "\n",
    "Cost function for LR is \n",
    "\n",
    "$J(\\theta_0,\\theta_2)=-\\frac{1}{m}[\\sum_{i=1}^{m}y^{i}\\log h_\\theta{x^i}+(1-y)\\log(1-h_\\theta(x^i))]$\n",
    "\n",
    "Task: Download the breast cancImplement"
   ]
  },
  {
   "cell_type": "code",
   "execution_count": null,
   "metadata": {},
   "outputs": [],
   "source": []
  }
 ],
 "metadata": {
  "kernelspec": {
   "display_name": "Python 3",
   "language": "python",
   "name": "python3"
  },
  "language_info": {
   "codemirror_mode": {
    "name": "ipython",
    "version": 3
   },
   "file_extension": ".py",
   "mimetype": "text/x-python",
   "name": "python",
   "nbconvert_exporter": "python",
   "pygments_lexer": "ipython3",
   "version": "3.7.1"
  }
 },
 "nbformat": 4,
 "nbformat_minor": 2
}
