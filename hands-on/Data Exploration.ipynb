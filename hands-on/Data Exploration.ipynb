{
 "cells": [
  {
   "cell_type": "markdown",
   "metadata": {},
   "source": [
    "#  Summary statistics for Iris dataset\n",
    "Task 1: Load the Iris dataset (you may use from sklearn.datasets)\n"
   ]
  },
  {
   "cell_type": "code",
   "execution_count": 1,
   "metadata": {},
   "outputs": [],
   "source": []
  },
  {
   "cell_type": "markdown",
   "metadata": {},
   "source": [
    "Task 2: Compute mean, median, range and standard deviation of each attribute w.r.t each class type (fill the table below)\n",
    "You may want to implement these on your own instead of using built-in librarires\n",
    "\n",
    "| Class | Attribute | Summary statistics | Result | \n",
    "| --- | --- | --- | --- |\n",
    "| Iris Setosa | sepal length | mean |   |\n",
    "| Iris Setosa | sepal length | median |   |\n",
    "| Iris Setosa | sepal length | range |   |\n",
    "| Iris Setosa | sepal length | standard deviation |   |\n",
    "| Iris Setosa | sepal width | mean |   |\n",
    "| Iris Setosa | sepal width | median |   |\n",
    "| Iris Setosa | sepal width | range |   |\n",
    "| Iris Setosa | sepal width | standard deviation |   |\n",
    "| Iris Setosa | petal length | mean |   |\n",
    "| Iris Setosa | petal length | median |   |\n",
    "| Iris Setosa | petal length | range |   |\n",
    "| Iris Setosa | petal length | standard deviation |   |\n",
    "| Iris Setosa | petal width | mean |   |\n",
    "| Iris Setosa | petal width | median |   |\n",
    "| Iris Setosa | petal width | range |   |\n",
    "| Iris Setosa | petal width | standard deviation |   |\n",
    "| Iris Virginica | sepal length | mean |   |\n",
    "| Iris Virginica | sepal length | median |   |\n",
    "| Iris Virginica | sepal length | range |   |\n",
    "| Iris Virginica | sepal length | standard deviation |   |\n",
    "| Iris Virginica | sepal width | mean |   |\n",
    "| Iris Virginica | sepal width | median |   |\n",
    "| Iris Virginica | sepal width | range |   |\n",
    "| Iris Virginica | sepal width | standard deviation |   |\n",
    "| Iris Virginica | petal length | mean |   |\n",
    "| Iris Virginica | petal length | median |   |\n",
    "| Iris Virginica | petal length | range |   |\n",
    "| Iris Virginica | petal length | standard deviation |   |\n",
    "| Iris Virginica | petal width | mean |   |\n",
    "| Iris Virginica | petal width | median |   |\n",
    "| Iris Virginica | petal width | range |   |\n",
    "| Iris Virginica | petal width | standard deviation |   |\n"
   ]
  },
  {
   "cell_type": "code",
   "execution_count": null,
   "metadata": {},
   "outputs": [],
   "source": []
  },
  {
   "cell_type": "markdown",
   "metadata": {},
   "source": [
    "Task 3:  2D Scatter Plot with Iris Dataset w.r.t Petal Length and Petal Width in X and Y axis and data points labelled with different colors according to flower type"
   ]
  },
  {
   "cell_type": "code",
   "execution_count": null,
   "metadata": {},
   "outputs": [],
   "source": []
  },
  {
   "cell_type": "markdown",
   "metadata": {},
   "source": [
    "Task 4: 3D Scatter Plot Iris Dataset w.r.t Petal Length, Petal Width and Sepal lenght in X, Y and Z axis and data points labelled with different colors according to flower type"
   ]
  },
  {
   "cell_type": "code",
   "execution_count": null,
   "metadata": {},
   "outputs": [],
   "source": []
  }
 ],
 "metadata": {
  "kernelspec": {
   "display_name": "Python 2",
   "language": "python",
   "name": "python2"
  },
  "language_info": {
   "codemirror_mode": {
    "name": "ipython",
    "version": 2
   },
   "file_extension": ".py",
   "mimetype": "text/x-python",
   "name": "python",
   "nbconvert_exporter": "python",
   "pygments_lexer": "ipython2",
   "version": "2.7.13"
  }
 },
 "nbformat": 4,
 "nbformat_minor": 2
}
